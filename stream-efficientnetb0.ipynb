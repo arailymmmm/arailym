{
 "cells": [
  {
   "cell_type": "markdown",
   "id": "e95f13ab",
   "metadata": {
    "papermill": {
     "duration": 0.008981,
     "end_time": "2024-08-28T18:33:44.402621",
     "exception": false,
     "start_time": "2024-08-28T18:33:44.393640",
     "status": "completed"
    },
    "tags": []
   },
   "source": []
  },
  {
   "cell_type": "raw",
   "id": "b9272699",
   "metadata": {
    "id": "NeTB7ZqN2_AI",
    "papermill": {
     "duration": 0.008411,
     "end_time": "2024-08-28T18:33:44.419815",
     "exception": false,
     "start_time": "2024-08-28T18:33:44.411404",
     "status": "completed"
    },
    "tags": []
   },
   "source": []
  },
  {
   "cell_type": "code",
   "execution_count": 1,
   "id": "1103c892",
   "metadata": {
    "execution": {
     "iopub.execute_input": "2024-08-28T18:33:44.438433Z",
     "iopub.status.busy": "2024-08-28T18:33:44.437792Z",
     "iopub.status.idle": "2024-08-28T18:33:56.351902Z",
     "shell.execute_reply": "2024-08-28T18:33:56.350944Z"
    },
    "papermill": {
     "duration": 11.926029,
     "end_time": "2024-08-28T18:33:56.354174",
     "exception": false,
     "start_time": "2024-08-28T18:33:44.428145",
     "status": "completed"
    },
    "tags": []
   },
   "outputs": [
    {
     "name": "stderr",
     "output_type": "stream",
     "text": [
      "/opt/conda/lib/python3.10/site-packages/scipy/__init__.py:146: UserWarning: A NumPy version >=1.16.5 and <1.23.0 is required for this version of SciPy (detected version 1.24.3\n",
      "  warnings.warn(f\"A NumPy version >={np_minversion} and <{np_maxversion}\"\n",
      "/opt/conda/lib/python3.10/site-packages/tensorflow_addons/utils/tfa_eol_msg.py:23: UserWarning: \n",
      "\n",
      "TensorFlow Addons (TFA) has ended development and introduction of new features.\n",
      "TFA has entered a minimal maintenance and release mode until a planned end of life in May 2024.\n",
      "Please modify downstream libraries to take dependencies from other repositories in our TensorFlow community (e.g. Keras, Keras-CV, and Keras-NLP). \n",
      "\n",
      "For more information see: https://github.com/tensorflow/addons/issues/2807 \n",
      "\n",
      "  warnings.warn(\n"
     ]
    }
   ],
   "source": [
    "import matplotlib.pyplot as plt\n",
    "import numpy as np\n",
    "import os\n",
    "import tensorflow as tf\n",
    "import tensorflow_addons as tfa"
   ]
  },
  {
   "cell_type": "code",
   "execution_count": 2,
   "id": "7b0160aa",
   "metadata": {
    "execution": {
     "iopub.execute_input": "2024-08-28T18:33:56.373346Z",
     "iopub.status.busy": "2024-08-28T18:33:56.372827Z",
     "iopub.status.idle": "2024-08-28T18:33:56.378536Z",
     "shell.execute_reply": "2024-08-28T18:33:56.377666Z"
    },
    "id": "xurOSn4U3Eg2",
    "papermill": {
     "duration": 0.017326,
     "end_time": "2024-08-28T18:33:56.380510",
     "exception": false,
     "start_time": "2024-08-28T18:33:56.363184",
     "status": "completed"
    },
    "tags": []
   },
   "outputs": [],
   "source": [
    "validation_dir = '/kaggle/input/5-7500-a/validation'\n",
    "\n",
    "\n",
    "test_dir = '/kaggle/input/5-7500-a/test'\n",
    "\n",
    "train_dir = '/kaggle/input/5-7500-a/train'\n",
    "\n",
    "BATCH_SIZE = 32\n",
    "IMG_SIZE = (224, 224)"
   ]
  },
  {
   "cell_type": "code",
   "execution_count": 3,
   "id": "39e8c76e",
   "metadata": {
    "execution": {
     "iopub.execute_input": "2024-08-28T18:33:56.399902Z",
     "iopub.status.busy": "2024-08-28T18:33:56.399589Z",
     "iopub.status.idle": "2024-08-28T18:33:58.108942Z",
     "shell.execute_reply": "2024-08-28T18:33:58.108222Z"
    },
    "id": "1kKjgAN93K-f",
    "outputId": "e237d629-8a1a-43c5-d48a-dd6d167d35ed",
    "papermill": {
     "duration": 1.721484,
     "end_time": "2024-08-28T18:33:58.110993",
     "exception": false,
     "start_time": "2024-08-28T18:33:56.389509",
     "status": "completed"
    },
    "tags": []
   },
   "outputs": [
    {
     "name": "stdout",
     "output_type": "stream",
     "text": [
      "Found 5250 files belonging to 5 classes.\n",
      "Found 1150 files belonging to 5 classes.\n",
      "Found 1125 files belonging to 5 classes.\n"
     ]
    }
   ],
   "source": [
    "\n",
    "train_dataset = tf.keras.utils.image_dataset_from_directory(train_dir,\n",
    "                                                            shuffle=True,\n",
    "                                                            batch_size=BATCH_SIZE,\n",
    "                                                            image_size=IMG_SIZE)\n",
    "validation_dataset = tf.keras.utils.image_dataset_from_directory(validation_dir,\n",
    "                                                                 shuffle=True,\n",
    "                                                                 batch_size=BATCH_SIZE,\n",
    "                                                                 image_size=IMG_SIZE)\n",
    "test_dataset = tf.keras.utils.image_dataset_from_directory(test_dir,\n",
    "                                                                 shuffle=True,\n",
    "                                                                 batch_size=BATCH_SIZE,\n",
    "                                                                 image_size=IMG_SIZE)"
   ]
  },
  {
   "cell_type": "code",
   "execution_count": 4,
   "id": "0a237cdf",
   "metadata": {
    "execution": {
     "iopub.execute_input": "2024-08-28T18:33:58.137034Z",
     "iopub.status.busy": "2024-08-28T18:33:58.136069Z",
     "iopub.status.idle": "2024-08-28T18:33:58.144015Z",
     "shell.execute_reply": "2024-08-28T18:33:58.142915Z"
    },
    "id": "KXbRtoXC3OZp",
    "papermill": {
     "duration": 0.023866,
     "end_time": "2024-08-28T18:33:58.146979",
     "exception": false,
     "start_time": "2024-08-28T18:33:58.123113",
     "status": "completed"
    },
    "tags": []
   },
   "outputs": [],
   "source": [
    "AUTOTUNE = tf.data.AUTOTUNE\n",
    "\n",
    "train_dataset = train_dataset.prefetch(buffer_size=AUTOTUNE)\n",
    "validation_dataset = validation_dataset.prefetch(buffer_size=AUTOTUNE)\n",
    "test_dataset = test_dataset.prefetch(buffer_size=AUTOTUNE)"
   ]
  },
  {
   "cell_type": "code",
   "execution_count": 5,
   "id": "931717b5",
   "metadata": {
    "execution": {
     "iopub.execute_input": "2024-08-28T18:33:58.172922Z",
     "iopub.status.busy": "2024-08-28T18:33:58.172008Z",
     "iopub.status.idle": "2024-08-28T18:33:58.177051Z",
     "shell.execute_reply": "2024-08-28T18:33:58.176025Z"
    },
    "id": "k7mYUmus3Po1",
    "papermill": {
     "duration": 0.019534,
     "end_time": "2024-08-28T18:33:58.179621",
     "exception": false,
     "start_time": "2024-08-28T18:33:58.160087",
     "status": "completed"
    },
    "tags": []
   },
   "outputs": [],
   "source": [
    "preprocess_input = tf.keras.applications.efficientnet.preprocess_input"
   ]
  },
  {
   "cell_type": "code",
   "execution_count": 6,
   "id": "11a320b8",
   "metadata": {
    "execution": {
     "iopub.execute_input": "2024-08-28T18:33:58.199820Z",
     "iopub.status.busy": "2024-08-28T18:33:58.199329Z",
     "iopub.status.idle": "2024-08-28T18:34:00.873968Z",
     "shell.execute_reply": "2024-08-28T18:34:00.873156Z"
    },
    "id": "DgpDBuwX3Ri9",
    "outputId": "ff7b13de-e30d-411f-a2fc-c4b7dffd4f0f",
    "papermill": {
     "duration": 2.686668,
     "end_time": "2024-08-28T18:34:00.876288",
     "exception": false,
     "start_time": "2024-08-28T18:33:58.189620",
     "status": "completed"
    },
    "tags": []
   },
   "outputs": [
    {
     "name": "stdout",
     "output_type": "stream",
     "text": [
      "Downloading data from https://storage.googleapis.com/keras-applications/efficientnetb0_notop.h5\n",
      "16705208/16705208 [==============================] - 0s 0us/step\n"
     ]
    }
   ],
   "source": [
    "# Create the base model from the pre-trained model MobileNet V2\n",
    "IMG_SHAPE = IMG_SIZE + (3,)\n",
    "base_model = tf.keras.applications.EfficientNetB0(input_shape=IMG_SHAPE,\n",
    "                                               include_top=False,\n",
    "                                               weights='imagenet')"
   ]
  },
  {
   "cell_type": "code",
   "execution_count": 7,
   "id": "aae41869",
   "metadata": {
    "execution": {
     "iopub.execute_input": "2024-08-28T18:34:00.896413Z",
     "iopub.status.busy": "2024-08-28T18:34:00.896115Z",
     "iopub.status.idle": "2024-08-28T18:34:11.934095Z",
     "shell.execute_reply": "2024-08-28T18:34:11.933029Z"
    },
    "id": "XxJ3H5zK3Tjh",
    "outputId": "11e1428e-d7ad-404f-a3f2-d6deea954e70",
    "papermill": {
     "duration": 11.050338,
     "end_time": "2024-08-28T18:34:11.936323",
     "exception": false,
     "start_time": "2024-08-28T18:34:00.885985",
     "status": "completed"
    },
    "tags": []
   },
   "outputs": [
    {
     "name": "stdout",
     "output_type": "stream",
     "text": [
      "(32, 7, 7, 1280)\n",
      "(32, 1280)\n"
     ]
    }
   ],
   "source": [
    "image_batch, label_batch = next(iter(train_dataset))\n",
    "feature_batch = base_model(image_batch)\n",
    "print(feature_batch.shape)\n",
    "\n",
    "base_model.trainable = False\n",
    "\n",
    "global_average_layer = tf.keras.layers.GlobalAveragePooling2D()\n",
    "feature_batch_average = global_average_layer(feature_batch)\n",
    "print(feature_batch_average.shape)"
   ]
  },
  {
   "cell_type": "code",
   "execution_count": 8,
   "id": "7a928efb",
   "metadata": {
    "execution": {
     "iopub.execute_input": "2024-08-28T18:34:11.957095Z",
     "iopub.status.busy": "2024-08-28T18:34:11.956600Z",
     "iopub.status.idle": "2024-08-28T18:34:11.993224Z",
     "shell.execute_reply": "2024-08-28T18:34:11.992239Z"
    },
    "id": "woyXe5KO3U-Y",
    "outputId": "a9986ee8-020f-42e3-95f0-59efbbf2c077",
    "papermill": {
     "duration": 0.048984,
     "end_time": "2024-08-28T18:34:11.995207",
     "exception": false,
     "start_time": "2024-08-28T18:34:11.946223",
     "status": "completed"
    },
    "tags": []
   },
   "outputs": [
    {
     "name": "stdout",
     "output_type": "stream",
     "text": [
      "(32, 5)\n"
     ]
    }
   ],
   "source": [
    "prediction_layer = tf.keras.layers.Dense(5, activation='softmax')\n",
    "prediction_batch = prediction_layer(feature_batch_average)\n",
    "print(prediction_batch.shape)"
   ]
  },
  {
   "cell_type": "code",
   "execution_count": 9,
   "id": "b542d701",
   "metadata": {
    "execution": {
     "iopub.execute_input": "2024-08-28T18:34:12.016209Z",
     "iopub.status.busy": "2024-08-28T18:34:12.015713Z",
     "iopub.status.idle": "2024-08-28T18:34:12.892551Z",
     "shell.execute_reply": "2024-08-28T18:34:12.891785Z"
    },
    "id": "ZeDvveKJ3Whs",
    "papermill": {
     "duration": 0.889689,
     "end_time": "2024-08-28T18:34:12.894885",
     "exception": false,
     "start_time": "2024-08-28T18:34:12.005196",
     "status": "completed"
    },
    "tags": []
   },
   "outputs": [],
   "source": [
    "inputs = tf.keras.Input(shape=(224, 224, 3))\n",
    "x = preprocess_input(inputs)\n",
    "x = base_model(x, training=False)\n",
    "x = global_average_layer(x)\n",
    "x = tf.keras.layers.Dropout(0.2)(x)\n",
    "outputs = prediction_layer(x)\n",
    "model = tf.keras.Model(inputs, outputs)"
   ]
  },
  {
   "cell_type": "code",
   "execution_count": 10,
   "id": "01cb89ec",
   "metadata": {
    "execution": {
     "iopub.execute_input": "2024-08-28T18:34:12.915587Z",
     "iopub.status.busy": "2024-08-28T18:34:12.915080Z",
     "iopub.status.idle": "2024-08-28T18:34:12.924580Z",
     "shell.execute_reply": "2024-08-28T18:34:12.923771Z"
    },
    "papermill": {
     "duration": 0.02206,
     "end_time": "2024-08-28T18:34:12.926702",
     "exception": false,
     "start_time": "2024-08-28T18:34:12.904642",
     "status": "completed"
    },
    "tags": []
   },
   "outputs": [],
   "source": [
    "from keras import backend as K\n",
    "one_hot = tf.keras.layers.CategoryEncoding(num_tokens=5, output_mode=\"one_hot\")\n",
    "\n",
    "def precision(y_true, y_pred):\n",
    "    \"\"\"Precision metric.\n",
    "\n",
    "    Only computes a batch-wise average of precision.\n",
    "\n",
    "    Computes the precision, a metric for multi-label classification of\n",
    "    how many selected items are relevant.\n",
    "    \"\"\"\n",
    "    y_true = one_hot(y_true)\n",
    "    true_positives = K.sum(K.round(K.clip(y_true * y_pred, 0, 1)))\n",
    "    predicted_positives = K.sum(K.round(K.clip(y_pred, 0, 1)))\n",
    "    precision = true_positives / (predicted_positives + K.epsilon())\n",
    "    return precision\n",
    "\n",
    "def recall(y_true, y_pred):\n",
    "    \"\"\"Recall metric.\n",
    "\n",
    "    Only computes a batch-wise average of recall.\n",
    "\n",
    "    Computes the recall, a metric for multi-label classification of\n",
    "    how many relevant items are selected.\n",
    "    \"\"\"\n",
    "    y_true = one_hot(y_true)\n",
    "    true_positives = K.sum(K.round(K.clip(y_true * y_pred, 0, 1)))\n",
    "    possible_positives = K.sum(K.round(K.clip(y_true, 0, 1)))\n",
    "    recall = true_positives / (possible_positives + K.epsilon())\n",
    "    return recall\n",
    "\n",
    "\n",
    "def f1(y_true, y_pred):\n",
    "    prec = precision(y_true, y_pred)\n",
    "    rec = recall(y_true, y_pred)\n",
    "    return 2*((prec*rec)/(prec+rec+K.epsilon()))"
   ]
  },
  {
   "cell_type": "code",
   "execution_count": 11,
   "id": "63088560",
   "metadata": {
    "execution": {
     "iopub.execute_input": "2024-08-28T18:34:12.946647Z",
     "iopub.status.busy": "2024-08-28T18:34:12.946118Z",
     "iopub.status.idle": "2024-08-28T18:34:12.966975Z",
     "shell.execute_reply": "2024-08-28T18:34:12.966305Z"
    },
    "id": "grA8gomR3XuU",
    "papermill": {
     "duration": 0.032864,
     "end_time": "2024-08-28T18:34:12.968908",
     "exception": false,
     "start_time": "2024-08-28T18:34:12.936044",
     "status": "completed"
    },
    "tags": []
   },
   "outputs": [],
   "source": [
    "base_learning_rate = 0.001\n",
    "model.compile(optimizer=tf.keras.optimizers.Adam(learning_rate=base_learning_rate),\n",
    "              loss=tf.keras.losses.sparse_categorical_crossentropy,\n",
    "              metrics=['accuracy', precision, recall, f1])"
   ]
  },
  {
   "cell_type": "code",
   "execution_count": 12,
   "id": "7d0d337f",
   "metadata": {
    "execution": {
     "iopub.execute_input": "2024-08-28T18:34:12.988564Z",
     "iopub.status.busy": "2024-08-28T18:34:12.988317Z",
     "iopub.status.idle": "2024-08-28T18:34:13.029943Z",
     "shell.execute_reply": "2024-08-28T18:34:13.027275Z"
    },
    "id": "6fEE1Ism3ZqA",
    "outputId": "5f4d2c60-3bff-4171-eabb-75426b476bae",
    "papermill": {
     "duration": 0.053616,
     "end_time": "2024-08-28T18:34:13.031844",
     "exception": false,
     "start_time": "2024-08-28T18:34:12.978228",
     "status": "completed"
    },
    "tags": []
   },
   "outputs": [
    {
     "name": "stdout",
     "output_type": "stream",
     "text": [
      "Model: \"model\"\n",
      "_________________________________________________________________\n",
      " Layer (type)                Output Shape              Param #   \n",
      "=================================================================\n",
      " input_2 (InputLayer)        [(None, 224, 224, 3)]     0         \n",
      "                                                                 \n",
      " efficientnetb0 (Functional  (None, 7, 7, 1280)        4049571   \n",
      " )                                                               \n",
      "                                                                 \n",
      " global_average_pooling2d (  (None, 1280)              0         \n",
      " GlobalAveragePooling2D)                                         \n",
      "                                                                 \n",
      " dropout (Dropout)           (None, 1280)              0         \n",
      "                                                                 \n",
      " dense (Dense)               (None, 5)                 6405      \n",
      "                                                                 \n",
      "=================================================================\n",
      "Total params: 4055976 (15.47 MB)\n",
      "Trainable params: 6405 (25.02 KB)\n",
      "Non-trainable params: 4049571 (15.45 MB)\n",
      "_________________________________________________________________\n"
     ]
    }
   ],
   "source": [
    "model.summary()"
   ]
  },
  {
   "cell_type": "code",
   "execution_count": 13,
   "id": "2d661e99",
   "metadata": {
    "execution": {
     "iopub.execute_input": "2024-08-28T18:34:13.054467Z",
     "iopub.status.busy": "2024-08-28T18:34:13.054195Z",
     "iopub.status.idle": "2024-08-28T19:05:09.216836Z",
     "shell.execute_reply": "2024-08-28T19:05:09.215782Z"
    },
    "id": "CKLE5EGw3chG",
    "outputId": "17d95183-9bcb-4caf-f0b9-6f11a9451a61",
    "papermill": {
     "duration": 1856.307717,
     "end_time": "2024-08-28T19:05:09.350350",
     "exception": false,
     "start_time": "2024-08-28T18:34:13.042633",
     "status": "completed"
    },
    "tags": []
   },
   "outputs": [
    {
     "name": "stdout",
     "output_type": "stream",
     "text": [
      "Epoch 1/10\n",
      "165/165 [==============================] - 215s 1s/step - loss: 0.5129 - accuracy: 0.8356 - precision: 0.9191 - recall: 0.7284 - f1: 0.7948 - val_loss: 0.5602 - val_accuracy: 0.8365 - val_precision: 0.9263 - val_recall: 0.6928 - val_f1: 0.7910\n",
      "Epoch 2/10\n",
      "165/165 [==============================] - 182s 1s/step - loss: 0.1909 - accuracy: 0.9524 - precision: 0.9699 - recall: 0.9278 - f1: 0.9481 - val_loss: 0.4306 - val_accuracy: 0.8617 - val_precision: 0.9270 - val_recall: 0.7878 - val_f1: 0.8509\n",
      "Epoch 3/10\n",
      "165/165 [==============================] - 181s 1s/step - loss: 0.1243 - accuracy: 0.9745 - precision: 0.9820 - recall: 0.9634 - f1: 0.9725 - val_loss: 0.3523 - val_accuracy: 0.9009 - val_precision: 0.9353 - val_recall: 0.8469 - val_f1: 0.8879\n",
      "Epoch 4/10\n",
      "165/165 [==============================] - 181s 1s/step - loss: 0.0913 - accuracy: 0.9825 - precision: 0.9872 - recall: 0.9735 - f1: 0.9801 - val_loss: 0.2998 - val_accuracy: 0.9243 - val_precision: 0.9405 - val_recall: 0.8895 - val_f1: 0.9139\n",
      "Epoch 5/10\n",
      "165/165 [==============================] - 182s 1s/step - loss: 0.0755 - accuracy: 0.9851 - precision: 0.9878 - recall: 0.9816 - f1: 0.9847 - val_loss: 0.2782 - val_accuracy: 0.9270 - val_precision: 0.9420 - val_recall: 0.9053 - val_f1: 0.9230\n",
      "Epoch 6/10\n",
      "165/165 [==============================] - 183s 1s/step - loss: 0.0607 - accuracy: 0.9907 - precision: 0.9933 - recall: 0.9877 - f1: 0.9904 - val_loss: 0.2656 - val_accuracy: 0.9304 - val_precision: 0.9417 - val_recall: 0.9130 - val_f1: 0.9269\n",
      "Epoch 7/10\n",
      "165/165 [==============================] - 184s 1s/step - loss: 0.0503 - accuracy: 0.9931 - precision: 0.9941 - recall: 0.9898 - f1: 0.9919 - val_loss: 0.2463 - val_accuracy: 0.9348 - val_precision: 0.9467 - val_recall: 0.9269 - val_f1: 0.9365\n",
      "Epoch 8/10\n",
      "165/165 [==============================] - 183s 1s/step - loss: 0.0447 - accuracy: 0.9931 - precision: 0.9945 - recall: 0.9917 - f1: 0.9930 - val_loss: 0.2465 - val_accuracy: 0.9330 - val_precision: 0.9388 - val_recall: 0.9191 - val_f1: 0.9287\n",
      "Epoch 9/10\n",
      "165/165 [==============================] - 183s 1s/step - loss: 0.0385 - accuracy: 0.9952 - precision: 0.9952 - recall: 0.9936 - f1: 0.9944 - val_loss: 0.2495 - val_accuracy: 0.9348 - val_precision: 0.9408 - val_recall: 0.9235 - val_f1: 0.9320\n",
      "Epoch 10/10\n",
      "165/165 [==============================] - 183s 1s/step - loss: 0.0344 - accuracy: 0.9950 - precision: 0.9960 - recall: 0.9934 - f1: 0.9947 - val_loss: 0.2381 - val_accuracy: 0.9374 - val_precision: 0.9435 - val_recall: 0.9233 - val_f1: 0.9332\n"
     ]
    }
   ],
   "source": [
    "history = model.fit(train_dataset,\n",
    "                    epochs=10,\n",
    "                    validation_data=validation_dataset)"
   ]
  },
  {
   "cell_type": "code",
   "execution_count": 14,
   "id": "882cc555",
   "metadata": {
    "execution": {
     "iopub.execute_input": "2024-08-28T19:05:09.639304Z",
     "iopub.status.busy": "2024-08-28T19:05:09.638603Z",
     "iopub.status.idle": "2024-08-28T19:05:10.119899Z",
     "shell.execute_reply": "2024-08-28T19:05:10.119007Z"
    },
    "id": "5A2zgxyb3ekb",
    "papermill": {
     "duration": 0.629301,
     "end_time": "2024-08-28T19:05:10.122287",
     "exception": false,
     "start_time": "2024-08-28T19:05:09.492986",
     "status": "completed"
    },
    "tags": []
   },
   "outputs": [
    {
     "data": {
      "image/png": "[encoded data removed]",
      "text/plain": [
       "<Figure size 800x800 with 2 Axes>"
      ]
     },
     "metadata": {},
     "output_type": "display_data"
    }
   ],
   "source": [
    "acc = history.history['accuracy']\n",
    "val_acc = history.history['val_accuracy']\n",
    "\n",
    "loss = history.history['loss']\n",
    "val_loss = history.history['val_loss']\n",
    "\n",
    "plt.figure(figsize=(8, 8))\n",
    "plt.subplot(2, 1, 1)\n",
    "plt.plot(acc, label='Training Accuracy')\n",
    "plt.plot(val_acc, label='Validation Accuracy')\n",
    "plt.legend(loc='lower right')\n",
    "plt.ylabel('Accuracy')\n",
    "plt.ylim([min(plt.ylim()),1])\n",
    "plt.title('Training and Validation Accuracy')\n",
    "\n",
    "plt.subplot(2, 1, 2)\n",
    "plt.plot(loss, label='Training Loss')\n",
    "plt.plot(val_loss, label='Validation Loss')\n",
    "plt.legend(loc='upper right')\n",
    "plt.ylabel('Cross Entropy')\n",
    "plt.ylim([0,1.0])\n",
    "plt.title('Training and Validation Loss')\n",
    "plt.xlabel('epoch')\n",
    "plt.show()"
   ]
  },
  {
   "cell_type": "code",
   "execution_count": 15,
   "id": "6484f7cf",
   "metadata": {
    "execution": {
     "iopub.execute_input": "2024-08-28T19:05:10.418840Z",
     "iopub.status.busy": "2024-08-28T19:05:10.418166Z",
     "iopub.status.idle": "2024-08-28T19:05:10.423971Z",
     "shell.execute_reply": "2024-08-28T19:05:10.423002Z"
    },
    "papermill": {
     "duration": 0.159457,
     "end_time": "2024-08-28T19:05:10.426193",
     "exception": false,
     "start_time": "2024-08-28T19:05:10.266736",
     "status": "completed"
    },
    "tags": []
   },
   "outputs": [
    {
     "name": "stdout",
     "output_type": "stream",
     "text": [
      "acc:  0.9950476288795471\n",
      "val_acc:  0.9373912811279297\n",
      "loss:  0.034435972571372986\n",
      "val_loss:  0.2381400465965271\n"
     ]
    }
   ],
   "source": [
    "print('acc: ', acc[-1])\n",
    "print('val_acc: ', val_acc[-1])\n",
    "print('loss: ', loss[-1])\n",
    "print('val_loss: ', val_loss[-1])"
   ]
  },
  {
   "cell_type": "code",
   "execution_count": 16,
   "id": "748ddc8e",
   "metadata": {
    "execution": {
     "iopub.execute_input": "2024-08-28T19:05:10.712584Z",
     "iopub.status.busy": "2024-08-28T19:05:10.711960Z",
     "iopub.status.idle": "2024-08-28T19:05:51.364106Z",
     "shell.execute_reply": "2024-08-28T19:05:51.363128Z"
    },
    "id": "z-9jXRVeo2PJ",
    "papermill": {
     "duration": 40.796774,
     "end_time": "2024-08-28T19:05:51.366047",
     "exception": false,
     "start_time": "2024-08-28T19:05:10.569273",
     "status": "completed"
    },
    "tags": []
   },
   "outputs": [
    {
     "name": "stderr",
     "output_type": "stream",
     "text": [
      "  0%|          | 0/36 [00:00<?, ?it/s]"
     ]
    },
    {
     "name": "stdout",
     "output_type": "stream",
     "text": [
      "1/1 [==============================] - 2s 2s/step\n"
     ]
    },
    {
     "name": "stderr",
     "output_type": "stream",
     "text": [
      "  3%|▎         | 1/36 [00:11<06:42, 11.49s/it]"
     ]
    },
    {
     "name": "stdout",
     "output_type": "stream",
     "text": [
      "1/1 [==============================] - 0s 87ms/step\n"
     ]
    },
    {
     "name": "stderr",
     "output_type": "stream",
     "text": [
      "  6%|▌         | 2/36 [00:11<02:45,  4.87s/it]"
     ]
    },
    {
     "name": "stdout",
     "output_type": "stream",
     "text": [
      "1/1 [==============================] - 0s 78ms/step\n"
     ]
    },
    {
     "name": "stderr",
     "output_type": "stream",
     "text": [
      "  8%|▊         | 3/36 [00:12<01:41,  3.09s/it]"
     ]
    },
    {
     "name": "stdout",
     "output_type": "stream",
     "text": [
      "1/1 [==============================] - 0s 71ms/step\n"
     ]
    },
    {
     "name": "stderr",
     "output_type": "stream",
     "text": [
      " 11%|█         | 4/36 [00:13<01:13,  2.30s/it]"
     ]
    },
    {
     "name": "stdout",
     "output_type": "stream",
     "text": [
      "1/1 [==============================] - 0s 66ms/step\n"
     ]
    },
    {
     "name": "stderr",
     "output_type": "stream",
     "text": [
      " 14%|█▍        | 5/36 [00:14<00:57,  1.86s/it]"
     ]
    },
    {
     "name": "stdout",
     "output_type": "stream",
     "text": [
      "1/1 [==============================] - 0s 88ms/step\n"
     ]
    },
    {
     "name": "stderr",
     "output_type": "stream",
     "text": [
      " 17%|█▋        | 6/36 [00:15<00:46,  1.56s/it]"
     ]
    },
    {
     "name": "stdout",
     "output_type": "stream",
     "text": [
      "1/1 [==============================] - 0s 67ms/step\n"
     ]
    },
    {
     "name": "stderr",
     "output_type": "stream",
     "text": [
      " 19%|█▉        | 7/36 [00:16<00:41,  1.42s/it]"
     ]
    },
    {
     "name": "stdout",
     "output_type": "stream",
     "text": [
      "1/1 [==============================] - 0s 62ms/step\n"
     ]
    },
    {
     "name": "stderr",
     "output_type": "stream",
     "text": [
      " 22%|██▏       | 8/36 [00:17<00:35,  1.27s/it]"
     ]
    },
    {
     "name": "stdout",
     "output_type": "stream",
     "text": [
      "1/1 [==============================] - 0s 66ms/step\n"
     ]
    },
    {
     "name": "stderr",
     "output_type": "stream",
     "text": [
      " 25%|██▌       | 9/36 [00:19<00:32,  1.21s/it]"
     ]
    },
    {
     "name": "stdout",
     "output_type": "stream",
     "text": [
      "1/1 [==============================] - 0s 58ms/step\n"
     ]
    },
    {
     "name": "stderr",
     "output_type": "stream",
     "text": [
      " 28%|██▊       | 10/36 [00:20<00:29,  1.15s/it]"
     ]
    },
    {
     "name": "stdout",
     "output_type": "stream",
     "text": [
      "1/1 [==============================] - 0s 51ms/step\n"
     ]
    },
    {
     "name": "stderr",
     "output_type": "stream",
     "text": [
      " 31%|███       | 11/36 [00:21<00:28,  1.12s/it]"
     ]
    },
    {
     "name": "stdout",
     "output_type": "stream",
     "text": [
      "1/1 [==============================] - 0s 56ms/step\n"
     ]
    },
    {
     "name": "stderr",
     "output_type": "stream",
     "text": [
      " 33%|███▎      | 12/36 [00:22<00:25,  1.06s/it]"
     ]
    },
    {
     "name": "stdout",
     "output_type": "stream",
     "text": [
      "1/1 [==============================] - 0s 62ms/step\n"
     ]
    },
    {
     "name": "stderr",
     "output_type": "stream",
     "text": [
      " 36%|███▌      | 13/36 [00:23<00:25,  1.11s/it]"
     ]
    },
    {
     "name": "stdout",
     "output_type": "stream",
     "text": [
      "1/1 [==============================] - 0s 50ms/step\n"
     ]
    },
    {
     "name": "stderr",
     "output_type": "stream",
     "text": [
      " 39%|███▉      | 14/36 [00:24<00:23,  1.05s/it]"
     ]
    },
    {
     "name": "stdout",
     "output_type": "stream",
     "text": [
      "1/1 [==============================] - 0s 78ms/step\n"
     ]
    },
    {
     "name": "stderr",
     "output_type": "stream",
     "text": [
      " 42%|████▏     | 15/36 [00:25<00:21,  1.03s/it]"
     ]
    },
    {
     "name": "stdout",
     "output_type": "stream",
     "text": [
      "1/1 [==============================] - 0s 75ms/step\n"
     ]
    },
    {
     "name": "stderr",
     "output_type": "stream",
     "text": [
      " 44%|████▍     | 16/36 [00:26<00:20,  1.02s/it]"
     ]
    },
    {
     "name": "stdout",
     "output_type": "stream",
     "text": [
      "1/1 [==============================] - 0s 54ms/step\n"
     ]
    },
    {
     "name": "stderr",
     "output_type": "stream",
     "text": [
      " 47%|████▋     | 17/36 [00:27<00:20,  1.06s/it]"
     ]
    },
    {
     "name": "stdout",
     "output_type": "stream",
     "text": [
      "1/1 [==============================] - 0s 49ms/step\n"
     ]
    },
    {
     "name": "stderr",
     "output_type": "stream",
     "text": [
      " 50%|█████     | 18/36 [00:28<00:18,  1.03s/it]"
     ]
    },
    {
     "name": "stdout",
     "output_type": "stream",
     "text": [
      "1/1 [==============================] - 0s 65ms/step\n"
     ]
    },
    {
     "name": "stderr",
     "output_type": "stream",
     "text": [
      " 53%|█████▎    | 19/36 [00:29<00:17,  1.04s/it]"
     ]
    },
    {
     "name": "stdout",
     "output_type": "stream",
     "text": [
      "1/1 [==============================] - 0s 58ms/step\n"
     ]
    },
    {
     "name": "stderr",
     "output_type": "stream",
     "text": [
      " 56%|█████▌    | 20/36 [00:30<00:16,  1.00s/it]"
     ]
    },
    {
     "name": "stdout",
     "output_type": "stream",
     "text": [
      "1/1 [==============================] - 0s 80ms/step\n"
     ]
    },
    {
     "name": "stderr",
     "output_type": "stream",
     "text": [
      " 58%|█████▊    | 21/36 [00:31<00:15,  1.06s/it]"
     ]
    },
    {
     "name": "stdout",
     "output_type": "stream",
     "text": [
      "1/1 [==============================] - 0s 66ms/step\n"
     ]
    },
    {
     "name": "stderr",
     "output_type": "stream",
     "text": [
      " 61%|██████    | 22/36 [00:32<00:14,  1.05s/it]"
     ]
    },
    {
     "name": "stdout",
     "output_type": "stream",
     "text": [
      "1/1 [==============================] - 0s 108ms/step\n"
     ]
    },
    {
     "name": "stderr",
     "output_type": "stream",
     "text": [
      " 64%|██████▍   | 23/36 [00:33<00:13,  1.04s/it]"
     ]
    },
    {
     "name": "stdout",
     "output_type": "stream",
     "text": [
      "1/1 [==============================] - 0s 63ms/step\n"
     ]
    },
    {
     "name": "stderr",
     "output_type": "stream",
     "text": [
      " 67%|██████▋   | 24/36 [00:34<00:12,  1.03s/it]"
     ]
    },
    {
     "name": "stdout",
     "output_type": "stream",
     "text": [
      "1/1 [==============================] - 0s 89ms/step\n"
     ]
    },
    {
     "name": "stderr",
     "output_type": "stream",
     "text": [
      " 69%|██████▉   | 25/36 [00:35<00:11,  1.05s/it]"
     ]
    },
    {
     "name": "stdout",
     "output_type": "stream",
     "text": [
      "1/1 [==============================] - 0s 54ms/step\n"
     ]
    },
    {
     "name": "stderr",
     "output_type": "stream",
     "text": [
      " 72%|███████▏  | 26/36 [00:36<00:10,  1.04s/it]"
     ]
    },
    {
     "name": "stdout",
     "output_type": "stream",
     "text": [
      "1/1 [==============================] - 0s 47ms/step\n"
     ]
    },
    {
     "name": "stderr",
     "output_type": "stream",
     "text": [
      " 75%|███████▌  | 27/36 [00:37<00:09,  1.04s/it]"
     ]
    },
    {
     "name": "stdout",
     "output_type": "stream",
     "text": [
      "1/1 [==============================] - 0s 33ms/step\n"
     ]
    },
    {
     "name": "stderr",
     "output_type": "stream",
     "text": [
      " 78%|███████▊  | 28/36 [00:37<00:06,  1.31it/s]"
     ]
    },
    {
     "name": "stdout",
     "output_type": "stream",
     "text": [
      "1/1 [==============================] - 0s 42ms/step\n"
     ]
    },
    {
     "name": "stderr",
     "output_type": "stream",
     "text": [
      " 81%|████████  | 29/36 [00:37<00:04,  1.74it/s]"
     ]
    },
    {
     "name": "stdout",
     "output_type": "stream",
     "text": [
      "1/1 [==============================] - 0s 34ms/step\n"
     ]
    },
    {
     "name": "stderr",
     "output_type": "stream",
     "text": [
      " 83%|████████▎ | 30/36 [00:37<00:02,  2.28it/s]"
     ]
    },
    {
     "name": "stdout",
     "output_type": "stream",
     "text": [
      "1/1 [==============================] - 0s 33ms/step\n"
     ]
    },
    {
     "name": "stderr",
     "output_type": "stream",
     "text": [
      " 86%|████████▌ | 31/36 [00:38<00:01,  2.90it/s]"
     ]
    },
    {
     "name": "stdout",
     "output_type": "stream",
     "text": [
      "1/1 [==============================] - 0s 33ms/step\n"
     ]
    },
    {
     "name": "stderr",
     "output_type": "stream",
     "text": [
      " 89%|████████▉ | 32/36 [00:38<00:01,  3.63it/s]"
     ]
    },
    {
     "name": "stdout",
     "output_type": "stream",
     "text": [
      "1/1 [==============================] - 0s 33ms/step\n"
     ]
    },
    {
     "name": "stderr",
     "output_type": "stream",
     "text": [
      " 92%|█████████▏| 33/36 [00:38<00:00,  4.40it/s]"
     ]
    },
    {
     "name": "stdout",
     "output_type": "stream",
     "text": [
      "1/1 [==============================] - 0s 32ms/step\n"
     ]
    },
    {
     "name": "stderr",
     "output_type": "stream",
     "text": [
      " 94%|█████████▍| 34/36 [00:38<00:00,  5.20it/s]"
     ]
    },
    {
     "name": "stdout",
     "output_type": "stream",
     "text": [
      "1/1 [==============================] - 0s 33ms/step\n"
     ]
    },
    {
     "name": "stderr",
     "output_type": "stream",
     "text": [
      " 97%|█████████▋| 35/36 [00:38<00:00,  5.94it/s]"
     ]
    },
    {
     "name": "stdout",
     "output_type": "stream",
     "text": [
      "1/1 [==============================] - 2s 2s/step\n"
     ]
    },
    {
     "name": "stderr",
     "output_type": "stream",
     "text": [
      "100%|██████████| 36/36 [00:40<00:00,  1.13s/it]\n"
     ]
    }
   ],
   "source": [
    "from tqdm import tqdm\n",
    "predictions = np.array([])\n",
    "for x, y in tqdm(test_dataset):\n",
    "  predictions = np.concatenate([predictions, np.argmax(model.predict(x),axis=-1)])"
   ]
  },
  {
   "cell_type": "code",
   "execution_count": 17,
   "id": "e102987e",
   "metadata": {
    "execution": {
     "iopub.execute_input": "2024-08-28T19:05:51.674974Z",
     "iopub.status.busy": "2024-08-28T19:05:51.674501Z",
     "iopub.status.idle": "2024-08-28T19:06:23.502821Z",
     "shell.execute_reply": "2024-08-28T19:06:23.501809Z"
    },
    "id": "e-x9Cj8cXjF1",
    "papermill": {
     "duration": 31.985679,
     "end_time": "2024-08-28T19:06:23.505200",
     "exception": false,
     "start_time": "2024-08-28T19:05:51.519521",
     "status": "completed"
    },
    "tags": []
   },
   "outputs": [],
   "source": [
    "test_label = np.concatenate([y for x, y in test_dataset], axis=0) "
   ]
  },
  {
   "cell_type": "code",
   "execution_count": 18,
   "id": "3170083b",
   "metadata": {
    "execution": {
     "iopub.execute_input": "2024-08-28T19:06:23.814253Z",
     "iopub.status.busy": "2024-08-28T19:06:23.813900Z",
     "iopub.status.idle": "2024-08-28T19:06:23.873307Z",
     "shell.execute_reply": "2024-08-28T19:06:23.872416Z"
    },
    "id": "J8CqVceFo2RX",
    "papermill": {
     "duration": 0.214888,
     "end_time": "2024-08-28T19:06:23.875224",
     "exception": false,
     "start_time": "2024-08-28T19:06:23.660336",
     "status": "completed"
    },
    "tags": []
   },
   "outputs": [
    {
     "data": {
      "text/plain": [
       "array([[52, 47, 32, 48, 46],\n",
       "       [53, 44, 40, 52, 36],\n",
       "       [35, 43, 40, 56, 51],\n",
       "       [43, 46, 44, 51, 41],\n",
       "       [49, 45, 43, 41, 47]], dtype=int32)"
      ]
     },
     "execution_count": 18,
     "metadata": {},
     "output_type": "execute_result"
    }
   ],
   "source": [
    "tf.math.confusion_matrix(labels=test_label, predictions=predictions).numpy()"
   ]
  },
  {
   "cell_type": "code",
   "execution_count": 19,
   "id": "ac9d18f8",
   "metadata": {
    "execution": {
     "iopub.execute_input": "2024-08-28T19:06:24.181587Z",
     "iopub.status.busy": "2024-08-28T19:06:24.181281Z",
     "iopub.status.idle": "2024-08-28T19:06:25.263080Z",
     "shell.execute_reply": "2024-08-28T19:06:25.262084Z"
    },
    "id": "E6ffcqzL3jkB",
    "papermill": {
     "duration": 1.236163,
     "end_time": "2024-08-28T19:06:25.265203",
     "exception": false,
     "start_time": "2024-08-28T19:06:24.029040",
     "status": "completed"
    },
    "tags": []
   },
   "outputs": [
    {
     "name": "stdout",
     "output_type": "stream",
     "text": [
      ">Saved /kaggle/working/stream_efficientnetb0.keras\n"
     ]
    }
   ],
   "source": [
    "\n",
    "\n",
    "filename = '/kaggle/working/stream_' + \"efficientnetb0\" + '.keras'\n",
    "model.save(filename)\n",
    "print('>Saved %s' % filename)"
   ]
  },
  {
   "cell_type": "code",
   "execution_count": 20,
   "id": "85d31b25",
   "metadata": {
    "execution": {
     "iopub.execute_input": "2024-08-28T19:06:25.596151Z",
     "iopub.status.busy": "2024-08-28T19:06:25.595322Z",
     "iopub.status.idle": "2024-08-28T19:07:06.563504Z",
     "shell.execute_reply": "2024-08-28T19:07:06.562484Z"
    },
    "id": "I6x4Xsby3l6H",
    "papermill": {
     "duration": 41.146204,
     "end_time": "2024-08-28T19:07:06.565478",
     "exception": false,
     "start_time": "2024-08-28T19:06:25.419274",
     "status": "completed"
    },
    "tags": []
   },
   "outputs": [
    {
     "name": "stdout",
     "output_type": "stream",
     "text": [
      "36/36 [==============================] - 33s 693ms/step - loss: 0.2648 - accuracy: 0.9236 - precision: 0.9356 - recall: 0.9184 - f1: 0.9268\n"
     ]
    },
    {
     "data": {
      "text/plain": [
       "[0.2647550404071808,\n",
       " 0.9235555529594421,\n",
       " 0.9356268644332886,\n",
       " 0.9184027910232544,\n",
       " 0.9267693758010864]"
      ]
     },
     "execution_count": 20,
     "metadata": {},
     "output_type": "execute_result"
    }
   ],
   "source": [
    "model.evaluate(test_dataset)\n"
   ]
  },
  {
   "cell_type": "code",
   "execution_count": 21,
   "id": "c18aacd5",
   "metadata": {
    "execution": {
     "iopub.execute_input": "2024-08-28T19:07:06.883600Z",
     "iopub.status.busy": "2024-08-28T19:07:06.882982Z",
     "iopub.status.idle": "2024-08-28T19:07:07.196956Z",
     "shell.execute_reply": "2024-08-28T19:07:07.195952Z"
    },
    "papermill": {
     "duration": 0.475929,
     "end_time": "2024-08-28T19:07:07.198971",
     "exception": false,
     "start_time": "2024-08-28T19:07:06.723042",
     "status": "completed"
    },
    "tags": []
   },
   "outputs": [
    {
     "name": "stderr",
     "output_type": "stream",
     "text": [
      "/opt/conda/lib/python3.10/site-packages/keras/src/engine/training.py:3000: UserWarning: You are saving your model as an HDF5 file via `model.save()`. This file format is considered legacy. We recommend using instead the native Keras format, e.g. `model.save('my_model.keras')`.\n",
      "  saving_api.save_model(\n"
     ]
    },
    {
     "name": "stdout",
     "output_type": "stream",
     "text": [
      ">Saved /kaggle/working/stream_efficientnetb0.hdf5\n"
     ]
    }
   ],
   "source": [
    "filename = '/kaggle/working/stream_' + \"efficientnetb0\" + '.hdf5'\n",
    "model.save(filename)\n",
    "print('>Saved %s' % filename)"
   ]
  },
  {
   "cell_type": "code",
   "execution_count": 22,
   "id": "4a7d77ef",
   "metadata": {
    "execution": {
     "iopub.execute_input": "2024-08-28T19:07:07.515691Z",
     "iopub.status.busy": "2024-08-28T19:07:07.514980Z",
     "iopub.status.idle": "2024-08-28T19:07:07.830999Z",
     "shell.execute_reply": "2024-08-28T19:07:07.829992Z"
    },
    "papermill": {
     "duration": 0.476644,
     "end_time": "2024-08-28T19:07:07.832954",
     "exception": false,
     "start_time": "2024-08-28T19:07:07.356310",
     "status": "completed"
    },
    "tags": []
   },
   "outputs": [
    {
     "name": "stdout",
     "output_type": "stream",
     "text": [
      ">Saved /kaggle/working/stream_efficientnetb0.h5\n"
     ]
    }
   ],
   "source": [
    "filename = '/kaggle/working/stream_' + \"efficientnetb0\" + '.h5'\n",
    "model.save(filename)\n",
    "print('>Saved %s' % filename)"
   ]
  },
  {
   "cell_type": "code",
   "execution_count": null,
   "id": "dd868210",
   "metadata": {
    "papermill": {
     "duration": 0.180625,
     "end_time": "2024-08-28T19:07:08.174461",
     "exception": false,
     "start_time": "2024-08-28T19:07:07.993836",
     "status": "completed"
    },
    "tags": []
   },
   "outputs": [],
   "source": []
  },
  {
   "cell_type": "code",
   "execution_count": null,
   "id": "5b173edc",
   "metadata": {
    "papermill": {
     "duration": 0.206857,
     "end_time": "2024-08-28T19:07:08.543791",
     "exception": false,
     "start_time": "2024-08-28T19:07:08.336934",
     "status": "completed"
    },
    "tags": []
   },
   "outputs": [],
   "source": []
  },
  {
   "cell_type": "code",
   "execution_count": null,
   "id": "7d71655c",
   "metadata": {
    "papermill": {
     "duration": 0.158521,
     "end_time": "2024-08-28T19:07:08.860963",
     "exception": false,
     "start_time": "2024-08-28T19:07:08.702442",
     "status": "completed"
    },
    "tags": []
   },
   "outputs": [],
   "source": []
  },
  {
   "cell_type": "code",
   "execution_count": null,
   "id": "f247f569",
   "metadata": {
    "papermill": {
     "duration": 0.173031,
     "end_time": "2024-08-28T19:07:09.190440",
     "exception": false,
     "start_time": "2024-08-28T19:07:09.017409",
     "status": "completed"
    },
    "tags": []
   },
   "outputs": [],
   "source": []
  },
  {
   "cell_type": "code",
   "execution_count": null,
   "id": "2450f3f2",
   "metadata": {
    "papermill": {
     "duration": 0.157229,
     "end_time": "2024-08-28T19:07:09.515204",
     "exception": false,
     "start_time": "2024-08-28T19:07:09.357975",
     "status": "completed"
    },
    "tags": []
   },
   "outputs": [],
   "source": []
  },
  {
   "cell_type": "code",
   "execution_count": null,
   "id": "704eb058",
   "metadata": {
    "papermill": {
     "duration": 0.15979,
     "end_time": "2024-08-28T19:07:09.833116",
     "exception": false,
     "start_time": "2024-08-28T19:07:09.673326",
     "status": "completed"
    },
    "tags": []
   },
   "outputs": [],
   "source": []
  },
  {
   "cell_type": "code",
   "execution_count": null,
   "id": "2a576bb8",
   "metadata": {
    "papermill": {
     "duration": 0.160476,
     "end_time": "2024-08-28T19:07:10.150542",
     "exception": false,
     "start_time": "2024-08-28T19:07:09.990066",
     "status": "completed"
    },
    "tags": []
   },
   "outputs": [],
   "source": []
  },
  {
   "cell_type": "code",
   "execution_count": null,
   "id": "132c3e3c",
   "metadata": {
    "papermill": {
     "duration": 0.156846,
     "end_time": "2024-08-28T19:07:10.466073",
     "exception": false,
     "start_time": "2024-08-28T19:07:10.309227",
     "status": "completed"
    },
    "tags": []
   },
   "outputs": [],
   "source": []
  },
  {
   "cell_type": "code",
   "execution_count": null,
   "id": "c91f22b4",
   "metadata": {
    "papermill": {
     "duration": 0.158825,
     "end_time": "2024-08-28T19:07:10.781756",
     "exception": false,
     "start_time": "2024-08-28T19:07:10.622931",
     "status": "completed"
    },
    "tags": []
   },
   "outputs": [],
   "source": []
  },
  {
   "cell_type": "code",
   "execution_count": null,
   "id": "12da25e4",
   "metadata": {
    "papermill": {
     "duration": 0.16881,
     "end_time": "2024-08-28T19:07:11.110505",
     "exception": false,
     "start_time": "2024-08-28T19:07:10.941695",
     "status": "completed"
    },
    "tags": []
   },
   "outputs": [],
   "source": []
  },
  {
   "cell_type": "code",
   "execution_count": null,
   "id": "4c2a504b",
   "metadata": {
    "papermill": {
     "duration": 0.157448,
     "end_time": "2024-08-28T19:07:11.429603",
     "exception": false,
     "start_time": "2024-08-28T19:07:11.272155",
     "status": "completed"
    },
    "tags": []
   },
   "outputs": [],
   "source": []
  }
 ],
 "metadata": {
  "kaggle": {
   "accelerator": "nvidiaTeslaT4",
   "dataSources": [
    {
     "datasetId": 3987420,
     "sourceId": 6943267,
     "sourceType": "datasetVersion"
    }
   ],
   "dockerImageVersionId": 30587,
   "isGpuEnabled": true,
   "isInternetEnabled": true,
   "language": "python",
   "sourceType": "notebook"
  },
  "kernelspec": {
   "display_name": "Python 3",
   "language": "python",
   "name": "python3"
  },
  "language_info": {
   "codemirror_mode": {
    "name": "ipython",
    "version": 3
   },
   "file_extension": ".py",
   "mimetype": "text/x-python",
   "name": "python",
   "nbconvert_exporter": "python",
   "pygments_lexer": "ipython3",
   "version": "3.10.12"
  },
  "papermill": {
   "default_parameters": {},
   "duration": 2013.63279,
   "end_time": "2024-08-28T19:07:14.710637",
   "environment_variables": {},
   "exception": null,
   "input_path": "__notebook__.ipynb",
   "output_path": "__notebook__.ipynb",
   "parameters": {},
   "start_time": "2024-08-28T18:33:41.077847",
   "version": "2.3.4"
  }
 },
 "nbformat": 4,
 "nbformat_minor": 5
}
